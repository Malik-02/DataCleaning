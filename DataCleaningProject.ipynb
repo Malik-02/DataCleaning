{
 "cells": [
  {
   "cell_type": "markdown",
   "id": "70960bb5-2c5e-4e8f-bd84-76bfdc6cf49c",
   "metadata": {},
   "source": [
    "## Assignment 2: Part 2. Data Cleaning\n",
    "### Due Date: Sunday March 19th 11:59PM"
   ]
  },
  {
   "cell_type": "markdown",
   "id": "8e161e95-d4f3-47af-a6b8-74638e0d5c0d",
   "metadata": {},
   "source": [
    "### The purpose of this assignment is to clean a data set so that it can be analyzed.  The dataset is a modified version of the `Craft Beer Bar Sales` Kaggle dataset.  The original dataset is available here: https://www.kaggle.com/datasets/podsyp/sales-in-craft-beer-bar."
   ]
  },
  {
   "cell_type": "markdown",
   "id": "2e792558-77db-4b6c-8850-5372ae41f9c9",
   "metadata": {},
   "source": [
    "### Directions\n",
    "- rename this file as `A2_W23_DataCleaning_CUID.ipynb` where CUID Is your Carleton University Identification\n",
    "- pay attention to where your file is saved as you will need to upload it to Brightspace\n",
    "- follow the instructions below\n",
    "- when completed, upload your .ipynb file to Brightspace.\n"
   ]
  },
  {
   "cell_type": "markdown",
   "id": "c3d5eba1-eff7-4ab3-8da6-e8f4e5d7ff88",
   "metadata": {},
   "source": [
    "### The data set `should` contain the following attributes\n",
    "\n",
    "- Product_code: unique product identifier\n",
    "- Vendor_code: Manufacturer's name\n",
    "- Name: SKU\n",
    "- Retail_price: Catalog price\n",
    "- Country_of_Origin: Manufacturer country\n",
    "- Size: sale item size\n",
    "- Vendor: Manufacturer's name\n",
    "- ABV: alcohol by volume\n",
    "- Product_type: the type of product\n"
   ]
  },
  {
   "cell_type": "markdown",
   "id": "632137d9-5534-44e4-bbde-c95b8070d856",
   "metadata": {
    "tags": []
   },
   "source": [
    "### Please type your name here: Malik Abdulmalik\n",
    "### Please type your student number here: 101202525"
   ]
  },
  {
   "cell_type": "code",
   "execution_count": 180,
   "id": "ad8852aa-400a-445e-ad79-00dbbeff811d",
   "metadata": {},
   "outputs": [],
   "source": [
    "import pandas as pd\n",
    "import numpy as np"
   ]
  },
  {
   "cell_type": "markdown",
   "id": "98d5773e-9ed0-4bd6-a278-bc1755c36b94",
   "metadata": {
    "tags": []
   },
   "source": [
    "### Step 1a. `(1 pt)` Read the `CraftBeerV1.csv` file into a dataframe named `df` and list its columns. This can be done in the same cell."
   ]
  },
  {
   "cell_type": "code",
   "execution_count": 181,
   "id": "4e4f7ef4-9619-4bb8-80aa-492073d24b1c",
   "metadata": {},
   "outputs": [
    {
     "data": {
      "text/html": [
       "<div>\n",
       "<style scoped>\n",
       "    .dataframe tbody tr th:only-of-type {\n",
       "        vertical-align: middle;\n",
       "    }\n",
       "\n",
       "    .dataframe tbody tr th {\n",
       "        vertical-align: top;\n",
       "    }\n",
       "\n",
       "    .dataframe thead th {\n",
       "        text-align: right;\n",
       "    }\n",
       "</style>\n",
       "<table border=\"1\" class=\"dataframe\">\n",
       "  <thead>\n",
       "    <tr style=\"text-align: right;\">\n",
       "      <th></th>\n",
       "      <th>Product_code</th>\n",
       "      <th>Vendor_code</th>\n",
       "      <th>Name</th>\n",
       "      <th>Retail_price</th>\n",
       "      <th>Base_unit</th>\n",
       "      <th>Country_of_Origin</th>\n",
       "      <th>Size</th>\n",
       "      <th>ABV</th>\n",
       "      <th>Vendor</th>\n",
       "      <th>Product_type</th>\n",
       "    </tr>\n",
       "  </thead>\n",
       "  <tbody>\n",
       "    <tr>\n",
       "      <th>0</th>\n",
       "      <td>5028</td>\n",
       "      <td>NaN</td>\n",
       "      <td>1 Symbiotica Apple 0.375</td>\n",
       "      <td>300.0</td>\n",
       "      <td>Pieces</td>\n",
       "      <td>Russia</td>\n",
       "      <td>0.375</td>\n",
       "      <td>4.5</td>\n",
       "      <td>NaN</td>\n",
       "      <td>Beer</td>\n",
       "    </tr>\n",
       "    <tr>\n",
       "      <th>1</th>\n",
       "      <td>4846</td>\n",
       "      <td>NaN</td>\n",
       "      <td>1 Symbiotica Hard Kombucha Renegade Aronia 0.33</td>\n",
       "      <td>200.0</td>\n",
       "      <td>Pieces</td>\n",
       "      <td>Russia</td>\n",
       "      <td>0.330</td>\n",
       "      <td>3.0</td>\n",
       "      <td>NaN</td>\n",
       "      <td>Beer</td>\n",
       "    </tr>\n",
       "    <tr>\n",
       "      <th>2</th>\n",
       "      <td>1340</td>\n",
       "      <td>NaN</td>\n",
       "      <td>1000 IBU Imperial IPA Barrel l</td>\n",
       "      <td>960.0</td>\n",
       "      <td>Liters</td>\n",
       "      <td>NaN</td>\n",
       "      <td>1.000</td>\n",
       "      <td>9.6</td>\n",
       "      <td>NaN</td>\n",
       "      <td>Beer</td>\n",
       "    </tr>\n",
       "    <tr>\n",
       "      <th>3</th>\n",
       "      <td>4372</td>\n",
       "      <td>NaN</td>\n",
       "      <td>18th Street Brewery</td>\n",
       "      <td>NaN</td>\n",
       "      <td>NaN</td>\n",
       "      <td>USA</td>\n",
       "      <td>NaN</td>\n",
       "      <td>NaN</td>\n",
       "      <td>NaN</td>\n",
       "      <td>Beer</td>\n",
       "    </tr>\n",
       "    <tr>\n",
       "      <th>4</th>\n",
       "      <td>4302</td>\n",
       "      <td>NaN</td>\n",
       "      <td>18th Street Brewery Deal With The Devil 0.473</td>\n",
       "      <td>630.0</td>\n",
       "      <td>Pieces</td>\n",
       "      <td>USA</td>\n",
       "      <td>0.473</td>\n",
       "      <td>8.5</td>\n",
       "      <td>NaN</td>\n",
       "      <td>Beer</td>\n",
       "    </tr>\n",
       "    <tr>\n",
       "      <th>...</th>\n",
       "      <td>...</td>\n",
       "      <td>...</td>\n",
       "      <td>...</td>\n",
       "      <td>...</td>\n",
       "      <td>...</td>\n",
       "      <td>...</td>\n",
       "      <td>...</td>\n",
       "      <td>...</td>\n",
       "      <td>...</td>\n",
       "      <td>...</td>\n",
       "    </tr>\n",
       "    <tr>\n",
       "      <th>5314</th>\n",
       "      <td>4372</td>\n",
       "      <td>NaN</td>\n",
       "      <td>18th Street Brewery</td>\n",
       "      <td>NaN</td>\n",
       "      <td>NaN</td>\n",
       "      <td>USA</td>\n",
       "      <td>NaN</td>\n",
       "      <td>NaN</td>\n",
       "      <td>NaN</td>\n",
       "      <td>Beer</td>\n",
       "    </tr>\n",
       "    <tr>\n",
       "      <th>5315</th>\n",
       "      <td>4302</td>\n",
       "      <td>NaN</td>\n",
       "      <td>18th Street Brewery Deal With The Devil 0.473</td>\n",
       "      <td>630.0</td>\n",
       "      <td>Pieces</td>\n",
       "      <td>USA</td>\n",
       "      <td>0.473</td>\n",
       "      <td>8.5</td>\n",
       "      <td>NaN</td>\n",
       "      <td>Beer</td>\n",
       "    </tr>\n",
       "    <tr>\n",
       "      <th>5316</th>\n",
       "      <td>4372</td>\n",
       "      <td>NaN</td>\n",
       "      <td>18th Street Brewery</td>\n",
       "      <td>NaN</td>\n",
       "      <td>NaN</td>\n",
       "      <td>USA</td>\n",
       "      <td>NaN</td>\n",
       "      <td>NaN</td>\n",
       "      <td>NaN</td>\n",
       "      <td>Beer</td>\n",
       "    </tr>\n",
       "    <tr>\n",
       "      <th>5317</th>\n",
       "      <td>4302</td>\n",
       "      <td>NaN</td>\n",
       "      <td>18th Street Brewery Deal With The Devil 0.473</td>\n",
       "      <td>630.0</td>\n",
       "      <td>Pieces</td>\n",
       "      <td>USA</td>\n",
       "      <td>0.473</td>\n",
       "      <td>8.5</td>\n",
       "      <td>NaN</td>\n",
       "      <td>Beer</td>\n",
       "    </tr>\n",
       "    <tr>\n",
       "      <th>5318</th>\n",
       "      <td>999</td>\n",
       "      <td>999</td>\n",
       "      <td>Ralfs OTT</td>\n",
       "      <td>637.0</td>\n",
       "      <td>96</td>\n",
       "      <td>99</td>\n",
       "      <td>0.330</td>\n",
       "      <td>99.0</td>\n",
       "      <td>999</td>\n",
       "      <td>Beer</td>\n",
       "    </tr>\n",
       "  </tbody>\n",
       "</table>\n",
       "<p>5319 rows × 10 columns</p>\n",
       "</div>"
      ],
      "text/plain": [
       "      Product_code Vendor_code  \\\n",
       "0             5028         NaN   \n",
       "1             4846         NaN   \n",
       "2             1340         NaN   \n",
       "3             4372         NaN   \n",
       "4             4302         NaN   \n",
       "...            ...         ...   \n",
       "5314          4372         NaN   \n",
       "5315          4302         NaN   \n",
       "5316          4372         NaN   \n",
       "5317          4302         NaN   \n",
       "5318           999         999   \n",
       "\n",
       "                                                 Name  Retail_price Base_unit  \\\n",
       "0                            1 Symbiotica Apple 0.375         300.0    Pieces   \n",
       "1     1 Symbiotica Hard Kombucha Renegade Aronia 0.33         200.0    Pieces   \n",
       "2                      1000 IBU Imperial IPA Barrel l         960.0    Liters   \n",
       "3                                 18th Street Brewery           NaN       NaN   \n",
       "4       18th Street Brewery Deal With The Devil 0.473         630.0    Pieces   \n",
       "...                                               ...           ...       ...   \n",
       "5314                              18th Street Brewery           NaN       NaN   \n",
       "5315    18th Street Brewery Deal With The Devil 0.473         630.0    Pieces   \n",
       "5316                              18th Street Brewery           NaN       NaN   \n",
       "5317    18th Street Brewery Deal With The Devil 0.473         630.0    Pieces   \n",
       "5318                                        Ralfs OTT         637.0        96   \n",
       "\n",
       "     Country_of_Origin   Size   ABV Vendor Product_type  \n",
       "0               Russia  0.375   4.5    NaN         Beer  \n",
       "1               Russia  0.330   3.0    NaN         Beer  \n",
       "2                  NaN  1.000   9.6    NaN         Beer  \n",
       "3                  USA    NaN   NaN    NaN         Beer  \n",
       "4                  USA  0.473   8.5    NaN         Beer  \n",
       "...                ...    ...   ...    ...          ...  \n",
       "5314               USA    NaN   NaN    NaN         Beer  \n",
       "5315               USA  0.473   8.5    NaN         Beer  \n",
       "5316               USA    NaN   NaN    NaN         Beer  \n",
       "5317               USA  0.473   8.5    NaN         Beer  \n",
       "5318                99  0.330  99.0    999         Beer  \n",
       "\n",
       "[5319 rows x 10 columns]"
      ]
     },
     "execution_count": 181,
     "metadata": {},
     "output_type": "execute_result"
    }
   ],
   "source": [
    "df = pd.read_csv('CraftBeerV1.csv')\n",
    "print(df.columns)"
   ]
  },
  {
   "cell_type": "markdown",
   "id": "c0b94054-7407-4873-b8df-2e8f4991eb56",
   "metadata": {
    "tags": []
   },
   "source": [
    "### Step 1b. `(2 pts)` Remove column(s) from your dataframe that do not exist in the data dictionary above.  Use as many cells as you need and ensure you save the results back to your dataframe `df`. Then, display the data frame. This can be done in the same cell."
   ]
  },
  {
   "cell_type": "code",
   "execution_count": 182,
   "id": "1799d945-379e-41c0-8abd-ce45b8f5d352",
   "metadata": {},
   "outputs": [
    {
     "data": {
      "text/html": [
       "<div>\n",
       "<style scoped>\n",
       "    .dataframe tbody tr th:only-of-type {\n",
       "        vertical-align: middle;\n",
       "    }\n",
       "\n",
       "    .dataframe tbody tr th {\n",
       "        vertical-align: top;\n",
       "    }\n",
       "\n",
       "    .dataframe thead th {\n",
       "        text-align: right;\n",
       "    }\n",
       "</style>\n",
       "<table border=\"1\" class=\"dataframe\">\n",
       "  <thead>\n",
       "    <tr style=\"text-align: right;\">\n",
       "      <th></th>\n",
       "      <th>Product_code</th>\n",
       "      <th>Vendor_code</th>\n",
       "      <th>Name</th>\n",
       "      <th>Retail_price</th>\n",
       "      <th>Country_of_Origin</th>\n",
       "      <th>Size</th>\n",
       "      <th>ABV</th>\n",
       "      <th>Vendor</th>\n",
       "      <th>Product_type</th>\n",
       "    </tr>\n",
       "  </thead>\n",
       "  <tbody>\n",
       "    <tr>\n",
       "      <th>0</th>\n",
       "      <td>5028</td>\n",
       "      <td>NaN</td>\n",
       "      <td>1 Symbiotica Apple 0.375</td>\n",
       "      <td>300.0</td>\n",
       "      <td>Russia</td>\n",
       "      <td>0.375</td>\n",
       "      <td>4.5</td>\n",
       "      <td>NaN</td>\n",
       "      <td>Beer</td>\n",
       "    </tr>\n",
       "    <tr>\n",
       "      <th>1</th>\n",
       "      <td>4846</td>\n",
       "      <td>NaN</td>\n",
       "      <td>1 Symbiotica Hard Kombucha Renegade Aronia 0.33</td>\n",
       "      <td>200.0</td>\n",
       "      <td>Russia</td>\n",
       "      <td>0.330</td>\n",
       "      <td>3.0</td>\n",
       "      <td>NaN</td>\n",
       "      <td>Beer</td>\n",
       "    </tr>\n",
       "    <tr>\n",
       "      <th>2</th>\n",
       "      <td>1340</td>\n",
       "      <td>NaN</td>\n",
       "      <td>1000 IBU Imperial IPA Barrel l</td>\n",
       "      <td>960.0</td>\n",
       "      <td>NaN</td>\n",
       "      <td>1.000</td>\n",
       "      <td>9.6</td>\n",
       "      <td>NaN</td>\n",
       "      <td>Beer</td>\n",
       "    </tr>\n",
       "    <tr>\n",
       "      <th>3</th>\n",
       "      <td>4372</td>\n",
       "      <td>NaN</td>\n",
       "      <td>18th Street Brewery</td>\n",
       "      <td>NaN</td>\n",
       "      <td>USA</td>\n",
       "      <td>NaN</td>\n",
       "      <td>NaN</td>\n",
       "      <td>NaN</td>\n",
       "      <td>Beer</td>\n",
       "    </tr>\n",
       "    <tr>\n",
       "      <th>4</th>\n",
       "      <td>4302</td>\n",
       "      <td>NaN</td>\n",
       "      <td>18th Street Brewery Deal With The Devil 0.473</td>\n",
       "      <td>630.0</td>\n",
       "      <td>USA</td>\n",
       "      <td>0.473</td>\n",
       "      <td>8.5</td>\n",
       "      <td>NaN</td>\n",
       "      <td>Beer</td>\n",
       "    </tr>\n",
       "    <tr>\n",
       "      <th>...</th>\n",
       "      <td>...</td>\n",
       "      <td>...</td>\n",
       "      <td>...</td>\n",
       "      <td>...</td>\n",
       "      <td>...</td>\n",
       "      <td>...</td>\n",
       "      <td>...</td>\n",
       "      <td>...</td>\n",
       "      <td>...</td>\n",
       "    </tr>\n",
       "    <tr>\n",
       "      <th>5314</th>\n",
       "      <td>4372</td>\n",
       "      <td>NaN</td>\n",
       "      <td>18th Street Brewery</td>\n",
       "      <td>NaN</td>\n",
       "      <td>USA</td>\n",
       "      <td>NaN</td>\n",
       "      <td>NaN</td>\n",
       "      <td>NaN</td>\n",
       "      <td>Beer</td>\n",
       "    </tr>\n",
       "    <tr>\n",
       "      <th>5315</th>\n",
       "      <td>4302</td>\n",
       "      <td>NaN</td>\n",
       "      <td>18th Street Brewery Deal With The Devil 0.473</td>\n",
       "      <td>630.0</td>\n",
       "      <td>USA</td>\n",
       "      <td>0.473</td>\n",
       "      <td>8.5</td>\n",
       "      <td>NaN</td>\n",
       "      <td>Beer</td>\n",
       "    </tr>\n",
       "    <tr>\n",
       "      <th>5316</th>\n",
       "      <td>4372</td>\n",
       "      <td>NaN</td>\n",
       "      <td>18th Street Brewery</td>\n",
       "      <td>NaN</td>\n",
       "      <td>USA</td>\n",
       "      <td>NaN</td>\n",
       "      <td>NaN</td>\n",
       "      <td>NaN</td>\n",
       "      <td>Beer</td>\n",
       "    </tr>\n",
       "    <tr>\n",
       "      <th>5317</th>\n",
       "      <td>4302</td>\n",
       "      <td>NaN</td>\n",
       "      <td>18th Street Brewery Deal With The Devil 0.473</td>\n",
       "      <td>630.0</td>\n",
       "      <td>USA</td>\n",
       "      <td>0.473</td>\n",
       "      <td>8.5</td>\n",
       "      <td>NaN</td>\n",
       "      <td>Beer</td>\n",
       "    </tr>\n",
       "    <tr>\n",
       "      <th>5318</th>\n",
       "      <td>999</td>\n",
       "      <td>999</td>\n",
       "      <td>Ralfs OTT</td>\n",
       "      <td>637.0</td>\n",
       "      <td>99</td>\n",
       "      <td>0.330</td>\n",
       "      <td>99.0</td>\n",
       "      <td>999</td>\n",
       "      <td>Beer</td>\n",
       "    </tr>\n",
       "  </tbody>\n",
       "</table>\n",
       "<p>5319 rows × 9 columns</p>\n",
       "</div>"
      ],
      "text/plain": [
       "      Product_code Vendor_code  \\\n",
       "0             5028         NaN   \n",
       "1             4846         NaN   \n",
       "2             1340         NaN   \n",
       "3             4372         NaN   \n",
       "4             4302         NaN   \n",
       "...            ...         ...   \n",
       "5314          4372         NaN   \n",
       "5315          4302         NaN   \n",
       "5316          4372         NaN   \n",
       "5317          4302         NaN   \n",
       "5318           999         999   \n",
       "\n",
       "                                                 Name  Retail_price  \\\n",
       "0                            1 Symbiotica Apple 0.375         300.0   \n",
       "1     1 Symbiotica Hard Kombucha Renegade Aronia 0.33         200.0   \n",
       "2                      1000 IBU Imperial IPA Barrel l         960.0   \n",
       "3                                 18th Street Brewery           NaN   \n",
       "4       18th Street Brewery Deal With The Devil 0.473         630.0   \n",
       "...                                               ...           ...   \n",
       "5314                              18th Street Brewery           NaN   \n",
       "5315    18th Street Brewery Deal With The Devil 0.473         630.0   \n",
       "5316                              18th Street Brewery           NaN   \n",
       "5317    18th Street Brewery Deal With The Devil 0.473         630.0   \n",
       "5318                                        Ralfs OTT         637.0   \n",
       "\n",
       "     Country_of_Origin   Size   ABV Vendor Product_type  \n",
       "0               Russia  0.375   4.5    NaN         Beer  \n",
       "1               Russia  0.330   3.0    NaN         Beer  \n",
       "2                  NaN  1.000   9.6    NaN         Beer  \n",
       "3                  USA    NaN   NaN    NaN         Beer  \n",
       "4                  USA  0.473   8.5    NaN         Beer  \n",
       "...                ...    ...   ...    ...          ...  \n",
       "5314               USA    NaN   NaN    NaN         Beer  \n",
       "5315               USA  0.473   8.5    NaN         Beer  \n",
       "5316               USA    NaN   NaN    NaN         Beer  \n",
       "5317               USA  0.473   8.5    NaN         Beer  \n",
       "5318                99  0.330  99.0    999         Beer  \n",
       "\n",
       "[5319 rows x 9 columns]"
      ]
     },
     "execution_count": 182,
     "metadata": {},
     "output_type": "execute_result"
    }
   ],
   "source": [
    "df = df.drop(['Base_unit'], axis=1)\n",
    "print(df)"
   ]
  },
  {
   "cell_type": "markdown",
   "id": "f3308de2-6825-4c43-92f3-a3fa7c48cc88",
   "metadata": {},
   "source": [
    "### Step 1c.  `(2 pts)` Determine the number of unique values for each column in the dataframe. `(1 pt)`  If an attribute has only a single unique value, remove it from the dataframe `(1 pt)`. Show all steps. Use as many cells as you need and ensure you save the results back to your dataframe `df`."
   ]
  },
  {
   "cell_type": "code",
   "execution_count": 183,
   "id": "8817052e-b91b-4df1-a320-6bdbef635cde",
   "metadata": {},
   "outputs": [
    {
     "data": {
      "text/plain": [
       "Product_code         5314\n",
       "Vendor_code           272\n",
       "Name                 5194\n",
       "Retail_price          183\n",
       "Country_of_Origin      29\n",
       "Size                   31\n",
       "ABV                   152\n",
       "Vendor                272\n",
       "Product_type            1\n",
       "dtype: int64"
      ]
     },
     "execution_count": 183,
     "metadata": {},
     "output_type": "execute_result"
    }
   ],
   "source": [
    "num_unique = df.nunique()\n",
    "print(num_unique)\n",
    "df = df.drop(['Product_type'], axis=1)\n",
    "print(df)"
   ]
  },
  {
   "cell_type": "markdown",
   "id": "ce72c5ac-839a-4312-baf6-abd1cf54ee31",
   "metadata": {},
   "source": [
    "### Step 1d. `(2 pts)` Compare the `Vendor_code` column with the `Vendor` column `(1 pt)`.  If they contain the same data, delete one of the columns `(1 pt)`. Show all steps (ie. prove that the two columns do/do not contain the same data). Use as many cells as you need and ensure you save the results back to your dataframe `df`."
   ]
  },
  {
   "cell_type": "code",
   "execution_count": 185,
   "id": "c2800bd1-e2f7-4c09-9b0c-39bd376d90ea",
   "metadata": {},
   "outputs": [
    {
     "data": {
      "text/html": [
       "<div>\n",
       "<style scoped>\n",
       "    .dataframe tbody tr th:only-of-type {\n",
       "        vertical-align: middle;\n",
       "    }\n",
       "\n",
       "    .dataframe tbody tr th {\n",
       "        vertical-align: top;\n",
       "    }\n",
       "\n",
       "    .dataframe thead th {\n",
       "        text-align: right;\n",
       "    }\n",
       "</style>\n",
       "<table border=\"1\" class=\"dataframe\">\n",
       "  <thead>\n",
       "    <tr style=\"text-align: right;\">\n",
       "      <th></th>\n",
       "      <th>self</th>\n",
       "      <th>other</th>\n",
       "    </tr>\n",
       "  </thead>\n",
       "  <tbody>\n",
       "  </tbody>\n",
       "</table>\n",
       "</div>"
      ],
      "text/plain": [
       "Empty DataFrame\n",
       "Columns: [self, other]\n",
       "Index: []"
      ]
     },
     "execution_count": 185,
     "metadata": {},
     "output_type": "execute_result"
    }
   ],
   "source": [
    "comparison = df['Vendor_code'].compare(df['Vendor'])\n",
    "print(comparison)\n",
    "if df['Vendor_code'].equals(df['Vendor']):\n",
    "    df = df.drop(['Vendor_code'], axis=1)\n",
    "print(df)"
   ]
  },
  {
   "cell_type": "markdown",
   "id": "faecaa2b-38f7-4885-be42-5eac062d671c",
   "metadata": {},
   "source": [
    "### Step 1.e. `(3 pts)` Determine whether there are any duplicate rows `(1 pt)`.  If there are duplicates, display them to the screen `(1 pt)`.  If duplicate rows exist, remove them from the dataset and reset the index of the dataframe `(1 pt)`. Show all steps. Use as many cells as you need and ensure you save the results (if there any) back to your dataframe `df`. "
   ]
  },
  {
   "cell_type": "code",
   "execution_count": 188,
   "id": "2ee634c2-e033-4b51-91bc-e46eb7e1ea7c",
   "metadata": {},
   "outputs": [
    {
     "data": {
      "text/html": [
       "<div>\n",
       "<style scoped>\n",
       "    .dataframe tbody tr th:only-of-type {\n",
       "        vertical-align: middle;\n",
       "    }\n",
       "\n",
       "    .dataframe tbody tr th {\n",
       "        vertical-align: top;\n",
       "    }\n",
       "\n",
       "    .dataframe thead th {\n",
       "        text-align: right;\n",
       "    }\n",
       "</style>\n",
       "<table border=\"1\" class=\"dataframe\">\n",
       "  <thead>\n",
       "    <tr style=\"text-align: right;\">\n",
       "      <th></th>\n",
       "      <th>Product_code</th>\n",
       "      <th>Name</th>\n",
       "      <th>Retail_price</th>\n",
       "      <th>Country_of_Origin</th>\n",
       "      <th>Size</th>\n",
       "      <th>ABV</th>\n",
       "      <th>Vendor</th>\n",
       "    </tr>\n",
       "  </thead>\n",
       "  <tbody>\n",
       "    <tr>\n",
       "      <th>5314</th>\n",
       "      <td>4372</td>\n",
       "      <td>18th Street Brewery</td>\n",
       "      <td>NaN</td>\n",
       "      <td>USA</td>\n",
       "      <td>NaN</td>\n",
       "      <td>NaN</td>\n",
       "      <td>NaN</td>\n",
       "    </tr>\n",
       "    <tr>\n",
       "      <th>5315</th>\n",
       "      <td>4302</td>\n",
       "      <td>18th Street Brewery Deal With The Devil 0.473</td>\n",
       "      <td>630.0</td>\n",
       "      <td>USA</td>\n",
       "      <td>0.473</td>\n",
       "      <td>8.5</td>\n",
       "      <td>NaN</td>\n",
       "    </tr>\n",
       "    <tr>\n",
       "      <th>5316</th>\n",
       "      <td>4372</td>\n",
       "      <td>18th Street Brewery</td>\n",
       "      <td>NaN</td>\n",
       "      <td>USA</td>\n",
       "      <td>NaN</td>\n",
       "      <td>NaN</td>\n",
       "      <td>NaN</td>\n",
       "    </tr>\n",
       "    <tr>\n",
       "      <th>5317</th>\n",
       "      <td>4302</td>\n",
       "      <td>18th Street Brewery Deal With The Devil 0.473</td>\n",
       "      <td>630.0</td>\n",
       "      <td>USA</td>\n",
       "      <td>0.473</td>\n",
       "      <td>8.5</td>\n",
       "      <td>NaN</td>\n",
       "    </tr>\n",
       "  </tbody>\n",
       "</table>\n",
       "</div>"
      ],
      "text/plain": [
       "      Product_code                                           Name  \\\n",
       "5314          4372                            18th Street Brewery   \n",
       "5315          4302  18th Street Brewery Deal With The Devil 0.473   \n",
       "5316          4372                            18th Street Brewery   \n",
       "5317          4302  18th Street Brewery Deal With The Devil 0.473   \n",
       "\n",
       "      Retail_price Country_of_Origin   Size  ABV Vendor  \n",
       "5314           NaN               USA    NaN  NaN    NaN  \n",
       "5315         630.0               USA  0.473  8.5    NaN  \n",
       "5316           NaN               USA    NaN  NaN    NaN  \n",
       "5317         630.0               USA  0.473  8.5    NaN  "
      ]
     },
     "execution_count": 188,
     "metadata": {},
     "output_type": "execute_result"
    }
   ],
   "source": [
    "duplicates = df[df.duplicated()]\n",
    "print(duplicates)\n",
    "df = df.drop_duplicates(ignore_index=True)\n",
    "print(df)"
   ]
  },
  {
   "cell_type": "markdown",
   "id": "3b2a6c85-4e98-46ab-b06c-eb5b6dc1159a",
   "metadata": {},
   "source": [
    "### Step 2a. `(2 pts)` Display basic statistical information for the dataframe's numeric attributes.  Ensure that the numeric attributes are shown vertically on the left and the various statistical attributes are columns."
   ]
  },
  {
   "cell_type": "code",
   "execution_count": 190,
   "id": "d2de894b-4dfe-4ba3-8ab0-aa15b39a68ca",
   "metadata": {},
   "outputs": [
    {
     "data": {
      "text/html": [
       "<div>\n",
       "<style scoped>\n",
       "    .dataframe tbody tr th:only-of-type {\n",
       "        vertical-align: middle;\n",
       "    }\n",
       "\n",
       "    .dataframe tbody tr th {\n",
       "        vertical-align: top;\n",
       "    }\n",
       "\n",
       "    .dataframe thead th {\n",
       "        text-align: right;\n",
       "    }\n",
       "</style>\n",
       "<table border=\"1\" class=\"dataframe\">\n",
       "  <thead>\n",
       "    <tr style=\"text-align: right;\">\n",
       "      <th></th>\n",
       "      <th>Product_code</th>\n",
       "      <th>Retail_price</th>\n",
       "      <th>Size</th>\n",
       "      <th>ABV</th>\n",
       "    </tr>\n",
       "  </thead>\n",
       "  <tbody>\n",
       "    <tr>\n",
       "      <th>count</th>\n",
       "      <td>5315.000000</td>\n",
       "      <td>4905.000000</td>\n",
       "      <td>4627.000000</td>\n",
       "      <td>4623.000000</td>\n",
       "    </tr>\n",
       "    <tr>\n",
       "      <th>mean</th>\n",
       "      <td>2690.526435</td>\n",
       "      <td>597.600830</td>\n",
       "      <td>0.626853</td>\n",
       "      <td>7.094157</td>\n",
       "    </tr>\n",
       "    <tr>\n",
       "      <th>std</th>\n",
       "      <td>1543.247097</td>\n",
       "      <td>515.154883</td>\n",
       "      <td>0.953197</td>\n",
       "      <td>2.805031</td>\n",
       "    </tr>\n",
       "    <tr>\n",
       "      <th>min</th>\n",
       "      <td>2.000000</td>\n",
       "      <td>0.000000</td>\n",
       "      <td>0.150000</td>\n",
       "      <td>0.500000</td>\n",
       "    </tr>\n",
       "    <tr>\n",
       "      <th>25%</th>\n",
       "      <td>1356.500000</td>\n",
       "      <td>330.000000</td>\n",
       "      <td>0.330000</td>\n",
       "      <td>5.300000</td>\n",
       "    </tr>\n",
       "    <tr>\n",
       "      <th>50%</th>\n",
       "      <td>2690.000000</td>\n",
       "      <td>480.000000</td>\n",
       "      <td>0.500000</td>\n",
       "      <td>6.500000</td>\n",
       "    </tr>\n",
       "    <tr>\n",
       "      <th>75%</th>\n",
       "      <td>4027.500000</td>\n",
       "      <td>720.000000</td>\n",
       "      <td>1.000000</td>\n",
       "      <td>8.200000</td>\n",
       "    </tr>\n",
       "    <tr>\n",
       "      <th>max</th>\n",
       "      <td>5358.000000</td>\n",
       "      <td>8484.850000</td>\n",
       "      <td>30.000000</td>\n",
       "      <td>99.000000</td>\n",
       "    </tr>\n",
       "  </tbody>\n",
       "</table>\n",
       "</div>"
      ],
      "text/plain": [
       "       Product_code  Retail_price         Size          ABV\n",
       "count   5315.000000   4905.000000  4627.000000  4623.000000\n",
       "mean    2690.526435    597.600830     0.626853     7.094157\n",
       "std     1543.247097    515.154883     0.953197     2.805031\n",
       "min        2.000000      0.000000     0.150000     0.500000\n",
       "25%     1356.500000    330.000000     0.330000     5.300000\n",
       "50%     2690.000000    480.000000     0.500000     6.500000\n",
       "75%     4027.500000    720.000000     1.000000     8.200000\n",
       "max     5358.000000   8484.850000    30.000000    99.000000"
      ]
     },
     "execution_count": 190,
     "metadata": {},
     "output_type": "execute_result"
    }
   ],
   "source": [
    "print(df.describe().transpose())"
   ]
  },
  {
   "cell_type": "markdown",
   "id": "4ab3f518-b716-4407-aaea-ae55fb609d72",
   "metadata": {},
   "source": [
    "### Step 2b. `(4 pts)` Look through the `min` column to determine if there are any 0s.  If there are, think about whether a 0 is a valid value for the attribute in question.  If you think it's an error, first determine how many occurrences of 0 exist for the attribute in the dataframe `(1 pt)`. Next display only the rows that have a 0 for the attribute in question `(1 pt)`.  Assign `Nan` using the numpy library to all occurrences of 0 for the attribute under question `(1 pt)`. Finally, display value counts for every unique value of the attribute in question ensuring that NaN gets counted `(1 pt)`."
   ]
  },
  {
   "cell_type": "code",
   "execution_count": 191,
   "id": "e308356f-ef5c-4aea-86d7-da831a1c226d",
   "metadata": {},
   "outputs": [
    {
     "data": {
      "text/plain": [
       "319"
      ]
     },
     "execution_count": 191,
     "metadata": {},
     "output_type": "execute_result"
    }
   ],
   "source": [
    "zero_count = (df['Retail_price'] == 0).sum()\n",
    "print(zero_count)\n",
    "zero_rows = df[df['Retail_price'] == 0]\n",
    "print(zero_rows)\n",
    "df.loc[df['Retail_price'] == 0, 'Retail_price'] = np.nan\n",
    "print(df['Retail_price'].value_counts(dropna=False))"
   ]
  },
  {
   "cell_type": "markdown",
   "id": "e546df46-ecb5-41c6-b226-a90e1b1ae070",
   "metadata": {},
   "source": [
    "### Step 2c. `(3 pts)` Create box plots for `Size`, and `ABV`.   "
   ]
  },
  {
   "cell_type": "code",
   "execution_count": 195,
   "id": "33ba5595-39c5-4f3f-ae8c-14662e409f0a",
   "metadata": {},
   "outputs": [
    {
     "data": {
      "text/plain": [
       "<AxesSubplot:>"
      ]
     },
     "execution_count": 195,
     "metadata": {},
     "output_type": "execute_result"
    }
   ],
   "source": [
    "df.boxplot('Size')"
   ]
  },
  {
   "cell_type": "code",
   "execution_count": 196,
   "id": "720a6e22-5f01-44bb-a552-d6fbcea2f186",
   "metadata": {},
   "outputs": [
    {
     "data": {
      "text/plain": [
       "<AxesSubplot:>"
      ]
     },
     "execution_count": 196,
     "metadata": {},
     "output_type": "execute_result"
    }
   ],
   "source": [
    "df.boxplot('ABV')"
   ]
  },
  {
   "cell_type": "markdown",
   "id": "d5bbc1da-56d6-4e30-b45b-14520e73860d",
   "metadata": {},
   "source": [
    "### Step 2d. `(14 pts)` Visually inspect each boxplot and determine if there are any statistical outliers for each of the two attributes.  You can assume a statistical outlier is any data point that exceeds the upper or lower whisker.  For each attribute that contains outlier(s):\n",
    "- calculate and display the IQR\n",
    "- calculate and display the necessary min and/or max values that are the thresholds for determining outliers (use the 75th + 1.5 * IQR and 25th - 1.5 * IQR formula discussed in class)\n",
    "- use the above information to display the row(s) that contain the outlier \n"
   ]
  },
  {
   "cell_type": "code",
   "execution_count": 197,
   "id": "39a3ccd8-8f64-4d04-9729-b1ecea0b595a",
   "metadata": {},
   "outputs": [
    {
     "name": "stdout",
     "output_type": "stream",
     "text": [
      "0.33 1.0\n"
     ]
    }
   ],
   "source": [
    "SizeQ1 = df['Size'].quantile(0.25)\n",
    "SizeQ3 = df['Size'].quantile(0.75)\n",
    "print(SizeQ1,SizeQ3)"
   ]
  },
  {
   "cell_type": "code",
   "execution_count": 198,
   "id": "2546dea4-ee76-4b43-a66f-feb0d3cd8bcb",
   "metadata": {},
   "outputs": [
    {
     "name": "stdout",
     "output_type": "stream",
     "text": [
      "0.6699999999999999\n"
     ]
    }
   ],
   "source": [
    "SizeIQR = SizeQ3 - SizeQ1\n",
    "print(SizeIQR)"
   ]
  },
  {
   "cell_type": "code",
   "execution_count": 199,
   "id": "fcf06dbe-a72b-4b5d-bc5d-3b1613b7f1e1",
   "metadata": {},
   "outputs": [
    {
     "name": "stdout",
     "output_type": "stream",
     "text": [
      "-0.6749999999999998 2.005\n"
     ]
    }
   ],
   "source": [
    "OuthighSize = SizeQ3 + 1.5*SizeIQR\n",
    "OutlowSize = SizeQ1 - 1.5*SizeIQR\n",
    "print(OutlowSize, OuthighSize)"
   ]
  },
  {
   "cell_type": "code",
   "execution_count": 200,
   "id": "9f6959e3-67ae-43ea-a57e-c2d3c66996ac",
   "metadata": {},
   "outputs": [
    {
     "data": {
      "text/plain": [
       "0       False\n",
       "1       False\n",
       "2       False\n",
       "3       False\n",
       "4       False\n",
       "        ...  \n",
       "5310    False\n",
       "5311    False\n",
       "5312    False\n",
       "5313    False\n",
       "5314    False\n",
       "Name: Size, Length: 5315, dtype: bool"
      ]
     },
     "execution_count": 200,
     "metadata": {},
     "output_type": "execute_result"
    }
   ],
   "source": [
    "(df['Size'] < OutlowSize) | (df['Size'] > OuthighSize)"
   ]
  },
  {
   "cell_type": "code",
   "execution_count": 201,
   "id": "d39e87c5-1db9-4b73-9b0e-675f5150fed4",
   "metadata": {},
   "outputs": [
    {
     "data": {
      "text/html": [
       "<div>\n",
       "<style scoped>\n",
       "    .dataframe tbody tr th:only-of-type {\n",
       "        vertical-align: middle;\n",
       "    }\n",
       "\n",
       "    .dataframe tbody tr th {\n",
       "        vertical-align: top;\n",
       "    }\n",
       "\n",
       "    .dataframe thead th {\n",
       "        text-align: right;\n",
       "    }\n",
       "</style>\n",
       "<table border=\"1\" class=\"dataframe\">\n",
       "  <thead>\n",
       "    <tr style=\"text-align: right;\">\n",
       "      <th></th>\n",
       "      <th>Product_code</th>\n",
       "      <th>Name</th>\n",
       "      <th>Retail_price</th>\n",
       "      <th>Country_of_Origin</th>\n",
       "      <th>Size</th>\n",
       "      <th>ABV</th>\n",
       "      <th>Vendor</th>\n",
       "    </tr>\n",
       "  </thead>\n",
       "  <tbody>\n",
       "    <tr>\n",
       "      <th>356</th>\n",
       "      <td>1842</td>\n",
       "      <td>Alvinne Kjuve Freddi/Cuvee Freddy OA Barrel</td>\n",
       "      <td>1280.0</td>\n",
       "      <td>Belgium</td>\n",
       "      <td>20.0</td>\n",
       "      <td>8.0</td>\n",
       "      <td>Alvinne</td>\n",
       "    </tr>\n",
       "    <tr>\n",
       "      <th>357</th>\n",
       "      <td>1843</td>\n",
       "      <td>Alvinne Fi/Phi Barrel</td>\n",
       "      <td>1120.0</td>\n",
       "      <td>Belgium</td>\n",
       "      <td>20.0</td>\n",
       "      <td>8.0</td>\n",
       "      <td>Alvinne</td>\n",
       "    </tr>\n",
       "    <tr>\n",
       "      <th>455</th>\n",
       "      <td>558</td>\n",
       "      <td>Anker Cuvee Van De Keizer Blauw 20/ 11% / 3,0</td>\n",
       "      <td>3200.0</td>\n",
       "      <td>Belgium</td>\n",
       "      <td>3.0</td>\n",
       "      <td>11.0</td>\n",
       "      <td>Anker</td>\n",
       "    </tr>\n",
       "    <tr>\n",
       "      <th>2264</th>\n",
       "      <td>2190</td>\n",
       "      <td>Gouden Carolus Classic / Collector's Edition 2...</td>\n",
       "      <td>5500.0</td>\n",
       "      <td>Belgium</td>\n",
       "      <td>3.0</td>\n",
       "      <td>8.5</td>\n",
       "      <td>Het Anker</td>\n",
       "    </tr>\n",
       "    <tr>\n",
       "      <th>2265</th>\n",
       "      <td>2191</td>\n",
       "      <td>Gouden Carolus Cuvée van de Keizer Imperial Da...</td>\n",
       "      <td>4500.0</td>\n",
       "      <td>Belgium</td>\n",
       "      <td>3.0</td>\n",
       "      <td>11.0</td>\n",
       "      <td>Het Anker</td>\n",
       "    </tr>\n",
       "    <tr>\n",
       "      <th>3240</th>\n",
       "      <td>1844</td>\n",
       "      <td>Nogne O Imperial Brown Ale 7,5%</td>\n",
       "      <td>960.0</td>\n",
       "      <td>NaN</td>\n",
       "      <td>20.0</td>\n",
       "      <td>7.5</td>\n",
       "      <td>NaN</td>\n",
       "    </tr>\n",
       "    <tr>\n",
       "      <th>4629</th>\n",
       "      <td>3115</td>\n",
       "      <td>To Ol Santa Gose 0.Barrel 30L</td>\n",
       "      <td>960.0</td>\n",
       "      <td>Denmark</td>\n",
       "      <td>30.0</td>\n",
       "      <td>4.0</td>\n",
       "      <td>To Ol</td>\n",
       "    </tr>\n",
       "    <tr>\n",
       "      <th>4657</th>\n",
       "      <td>1632</td>\n",
       "      <td>To Ol Dzhujsi IPA</td>\n",
       "      <td>880.0</td>\n",
       "      <td>Denmark</td>\n",
       "      <td>30.0</td>\n",
       "      <td>8.5</td>\n",
       "      <td>To Ol</td>\n",
       "    </tr>\n",
       "    <tr>\n",
       "      <th>5226</th>\n",
       "      <td>1679</td>\n",
       "      <td>AjViBiSi Solted Karamel Porter Ale Barrel l ne...</td>\n",
       "      <td>800.0</td>\n",
       "      <td>NaN</td>\n",
       "      <td>10.0</td>\n",
       "      <td>6.0</td>\n",
       "      <td>NaN</td>\n",
       "    </tr>\n",
       "    <tr>\n",
       "      <th>5260</th>\n",
       "      <td>432</td>\n",
       "      <td>Mikkeller Black Bottle</td>\n",
       "      <td>NaN</td>\n",
       "      <td>Belgium</td>\n",
       "      <td>30.0</td>\n",
       "      <td>5.5</td>\n",
       "      <td>Mikkeller</td>\n",
       "    </tr>\n",
       "  </tbody>\n",
       "</table>\n",
       "</div>"
      ],
      "text/plain": [
       "      Product_code                                               Name  \\\n",
       "356           1842        Alvinne Kjuve Freddi/Cuvee Freddy OA Barrel   \n",
       "357           1843                              Alvinne Fi/Phi Barrel   \n",
       "455            558      Anker Cuvee Van De Keizer Blauw 20/ 11% / 3,0   \n",
       "2264          2190  Gouden Carolus Classic / Collector's Edition 2...   \n",
       "2265          2191  Gouden Carolus Cuvée van de Keizer Imperial Da...   \n",
       "3240          1844                    Nogne O Imperial Brown Ale 7,5%   \n",
       "4629          3115                      To Ol Santa Gose 0.Barrel 30L   \n",
       "4657          1632                                  To Ol Dzhujsi IPA   \n",
       "5226          1679  AjViBiSi Solted Karamel Porter Ale Barrel l ne...   \n",
       "5260           432                             Mikkeller Black Bottle   \n",
       "\n",
       "      Retail_price Country_of_Origin  Size   ABV     Vendor  \n",
       "356         1280.0           Belgium  20.0   8.0    Alvinne  \n",
       "357         1120.0           Belgium  20.0   8.0    Alvinne  \n",
       "455         3200.0           Belgium   3.0  11.0      Anker  \n",
       "2264        5500.0           Belgium   3.0   8.5  Het Anker  \n",
       "2265        4500.0           Belgium   3.0  11.0  Het Anker  \n",
       "3240         960.0               NaN  20.0   7.5        NaN  \n",
       "4629         960.0           Denmark  30.0   4.0      To Ol  \n",
       "4657         880.0           Denmark  30.0   8.5      To Ol  \n",
       "5226         800.0               NaN  10.0   6.0        NaN  \n",
       "5260           NaN           Belgium  30.0   5.5  Mikkeller  "
      ]
     },
     "execution_count": 201,
     "metadata": {},
     "output_type": "execute_result"
    }
   ],
   "source": [
    "SizeoutRows = (df['Size'] < OutlowSize) | (df['Size'] > OuthighSize)\n",
    "df[SizeoutRows]"
   ]
  },
  {
   "cell_type": "code",
   "execution_count": 202,
   "id": "5903607f-3c76-4113-ba10-18f37e35654a",
   "metadata": {},
   "outputs": [
    {
     "name": "stdout",
     "output_type": "stream",
     "text": [
      "5.3 8.2\n"
     ]
    }
   ],
   "source": [
    "ABVQ1 = df['ABV'].quantile(0.25)\n",
    "ABVQ3 = df['ABV'].quantile(0.75)\n",
    "print(ABVQ1,ABVQ3)"
   ]
  },
  {
   "cell_type": "code",
   "execution_count": 203,
   "id": "7292aef7-3a90-43c8-87e5-9aefa1f75aa1",
   "metadata": {},
   "outputs": [
    {
     "name": "stdout",
     "output_type": "stream",
     "text": [
      "2.8999999999999995\n"
     ]
    }
   ],
   "source": [
    "ABVIQR = ABVQ3 - ABVQ1\n",
    "print(ABVIQR)"
   ]
  },
  {
   "cell_type": "code",
   "execution_count": 204,
   "id": "009ef58c-259c-4975-9ea7-2928fbd924da",
   "metadata": {},
   "outputs": [
    {
     "name": "stdout",
     "output_type": "stream",
     "text": [
      "0.9500000000000002 12.549999999999999\n"
     ]
    }
   ],
   "source": [
    "OuthighABV = ABVQ3 + 1.5*ABVIQR\n",
    "OutlowABV = ABVQ1 - 1.5*ABVIQR\n",
    "print(OutlowABV, OuthighABV)"
   ]
  },
  {
   "cell_type": "code",
   "execution_count": 205,
   "id": "be05638f-33b3-44c1-bbda-7f67961ee68b",
   "metadata": {},
   "outputs": [
    {
     "data": {
      "text/plain": [
       "0        True\n",
       "1        True\n",
       "2        True\n",
       "3       False\n",
       "4        True\n",
       "        ...  \n",
       "5310     True\n",
       "5311     True\n",
       "5312     True\n",
       "5313     True\n",
       "5314     True\n",
       "Name: ABV, Length: 5315, dtype: bool"
      ]
     },
     "execution_count": 205,
     "metadata": {},
     "output_type": "execute_result"
    }
   ],
   "source": [
    "(df['ABV'] < OutlowSize) | (df['ABV'] > OuthighSize)"
   ]
  },
  {
   "cell_type": "code",
   "execution_count": 206,
   "id": "b85ce3b1-b68d-4167-aeb0-01cee0620c61",
   "metadata": {},
   "outputs": [
    {
     "data": {
      "text/html": [
       "<div>\n",
       "<style scoped>\n",
       "    .dataframe tbody tr th:only-of-type {\n",
       "        vertical-align: middle;\n",
       "    }\n",
       "\n",
       "    .dataframe tbody tr th {\n",
       "        vertical-align: top;\n",
       "    }\n",
       "\n",
       "    .dataframe thead th {\n",
       "        text-align: right;\n",
       "    }\n",
       "</style>\n",
       "<table border=\"1\" class=\"dataframe\">\n",
       "  <thead>\n",
       "    <tr style=\"text-align: right;\">\n",
       "      <th></th>\n",
       "      <th>Product_code</th>\n",
       "      <th>Name</th>\n",
       "      <th>Retail_price</th>\n",
       "      <th>Country_of_Origin</th>\n",
       "      <th>Size</th>\n",
       "      <th>ABV</th>\n",
       "      <th>Vendor</th>\n",
       "    </tr>\n",
       "  </thead>\n",
       "  <tbody>\n",
       "    <tr>\n",
       "      <th>65</th>\n",
       "      <td>2999</td>\n",
       "      <td>Aegir Tors Hammar Barleywine 0.33</td>\n",
       "      <td>720.0</td>\n",
       "      <td>Norway</td>\n",
       "      <td>0.330</td>\n",
       "      <td>13.2</td>\n",
       "      <td>Aegir</td>\n",
       "    </tr>\n",
       "    <tr>\n",
       "      <th>66</th>\n",
       "      <td>2233</td>\n",
       "      <td>Aegir Tors Hammar Barleywine 13,2% Barrel</td>\n",
       "      <td>1200.0</td>\n",
       "      <td>Norway</td>\n",
       "      <td>1.000</td>\n",
       "      <td>13.2</td>\n",
       "      <td>Aegir</td>\n",
       "    </tr>\n",
       "    <tr>\n",
       "      <th>67</th>\n",
       "      <td>2075</td>\n",
       "      <td>Aegir Ragnarek Jubileumsol 2017</td>\n",
       "      <td>NaN</td>\n",
       "      <td>Norway</td>\n",
       "      <td>0.330</td>\n",
       "      <td>15.0</td>\n",
       "      <td>Aegir</td>\n",
       "    </tr>\n",
       "    <tr>\n",
       "      <th>176</th>\n",
       "      <td>5127</td>\n",
       "      <td>AF Brew La Lobotomie Cerebral 200.33</td>\n",
       "      <td>700.0</td>\n",
       "      <td>Russia</td>\n",
       "      <td>0.330</td>\n",
       "      <td>15.0</td>\n",
       "      <td>AF Brew</td>\n",
       "    </tr>\n",
       "    <tr>\n",
       "      <th>182</th>\n",
       "      <td>3023</td>\n",
       "      <td>AF Brew Love &amp; Squalor Barrel</td>\n",
       "      <td>1000.0</td>\n",
       "      <td>Russia</td>\n",
       "      <td>1.000</td>\n",
       "      <td>14.3</td>\n",
       "      <td>AF Brew</td>\n",
       "    </tr>\n",
       "    <tr>\n",
       "      <th>...</th>\n",
       "      <td>...</td>\n",
       "      <td>...</td>\n",
       "      <td>...</td>\n",
       "      <td>...</td>\n",
       "      <td>...</td>\n",
       "      <td>...</td>\n",
       "      <td>...</td>\n",
       "    </tr>\n",
       "    <tr>\n",
       "      <th>4996</th>\n",
       "      <td>4255</td>\n",
       "      <td>XP Envoy of Doom Barrel</td>\n",
       "      <td>1000.0</td>\n",
       "      <td>Russia</td>\n",
       "      <td>1.000</td>\n",
       "      <td>13.0</td>\n",
       "      <td>XP Brew</td>\n",
       "    </tr>\n",
       "    <tr>\n",
       "      <th>5213</th>\n",
       "      <td>1643</td>\n",
       "      <td>Zavod Meadow Braggot / 14.5% / IBU5 / 0.33l</td>\n",
       "      <td>180.0</td>\n",
       "      <td>Russia</td>\n",
       "      <td>0.330</td>\n",
       "      <td>14.5</td>\n",
       "      <td>Zavod</td>\n",
       "    </tr>\n",
       "    <tr>\n",
       "      <th>5256</th>\n",
       "      <td>1952</td>\n",
       "      <td>Birra del' Borgo Sedechigrad</td>\n",
       "      <td>850.0</td>\n",
       "      <td>NaN</td>\n",
       "      <td>0.330</td>\n",
       "      <td>16.0</td>\n",
       "      <td>NaN</td>\n",
       "    </tr>\n",
       "    <tr>\n",
       "      <th>5259</th>\n",
       "      <td>431</td>\n",
       "      <td>Mikkeller Black Bottle</td>\n",
       "      <td>800.0</td>\n",
       "      <td>Denmark</td>\n",
       "      <td>0.375</td>\n",
       "      <td>15.1</td>\n",
       "      <td>Mikkeller</td>\n",
       "    </tr>\n",
       "    <tr>\n",
       "      <th>5314</th>\n",
       "      <td>999</td>\n",
       "      <td>Ralfs OTT</td>\n",
       "      <td>637.0</td>\n",
       "      <td>99</td>\n",
       "      <td>0.330</td>\n",
       "      <td>99.0</td>\n",
       "      <td>999</td>\n",
       "    </tr>\n",
       "  </tbody>\n",
       "</table>\n",
       "<p>137 rows × 7 columns</p>\n",
       "</div>"
      ],
      "text/plain": [
       "      Product_code                                         Name  Retail_price  \\\n",
       "65            2999            Aegir Tors Hammar Barleywine 0.33         720.0   \n",
       "66            2233    Aegir Tors Hammar Barleywine 13,2% Barrel        1200.0   \n",
       "67            2075              Aegir Ragnarek Jubileumsol 2017           NaN   \n",
       "176           5127         AF Brew La Lobotomie Cerebral 200.33         700.0   \n",
       "182           3023                AF Brew Love & Squalor Barrel        1000.0   \n",
       "...            ...                                          ...           ...   \n",
       "4996          4255                      XP Envoy of Doom Barrel        1000.0   \n",
       "5213          1643  Zavod Meadow Braggot / 14.5% / IBU5 / 0.33l         180.0   \n",
       "5256          1952                 Birra del' Borgo Sedechigrad         850.0   \n",
       "5259           431                       Mikkeller Black Bottle         800.0   \n",
       "5314           999                                    Ralfs OTT         637.0   \n",
       "\n",
       "     Country_of_Origin   Size   ABV     Vendor  \n",
       "65              Norway  0.330  13.2      Aegir  \n",
       "66              Norway  1.000  13.2      Aegir  \n",
       "67              Norway  0.330  15.0      Aegir  \n",
       "176             Russia  0.330  15.0    AF Brew  \n",
       "182             Russia  1.000  14.3    AF Brew  \n",
       "...                ...    ...   ...        ...  \n",
       "4996            Russia  1.000  13.0    XP Brew  \n",
       "5213            Russia  0.330  14.5      Zavod  \n",
       "5256               NaN  0.330  16.0        NaN  \n",
       "5259           Denmark  0.375  15.1  Mikkeller  \n",
       "5314                99  0.330  99.0        999  \n",
       "\n",
       "[137 rows x 7 columns]"
      ]
     },
     "execution_count": 206,
     "metadata": {},
     "output_type": "execute_result"
    }
   ],
   "source": [
    "ABVoutRows = (df['ABV'] < OutlowABV) | (df['ABV'] > OuthighABV)\n",
    "df[ABVoutRows]"
   ]
  },
  {
   "cell_type": "markdown",
   "id": "488bdf57-6db8-4cac-8bf1-ef8f65542ea8",
   "metadata": {},
   "source": [
    "### Step 2e. `(6 pts)`.  For each of the attribute(s) that had outliers, would it make sense to impute values to replace the outliers?  Why or why not? Answer in the cell below.  Be sure to identify which attribute you are referring to in answering the questions."
   ]
  },
  {
   "cell_type": "markdown",
   "id": "c3396869-a7e0-493b-9921-93bbf4f3e1d6",
   "metadata": {},
   "source": [
    "### Answer 2e here: \n",
    "\n",
    "It would not make sense to impute values for ABV cause a great amount of data is an outlier. \n",
    "\n",
    "HOW EVER we can Impute data in Size since there isnt that much data"
   ]
  },
  {
   "cell_type": "markdown",
   "id": "bf0854d3-6202-44e7-85f2-385ea3113182",
   "metadata": {},
   "source": [
    "### Step 3a. `(3 pts)` Determine how many missing values there are in each column and how many rows have missing values.  Show all your steps."
   ]
  },
  {
   "cell_type": "code",
   "execution_count": 207,
   "id": "e9542856-9514-43f2-aa9f-80be2ca50268",
   "metadata": {},
   "outputs": [
    {
     "data": {
      "text/plain": [
       "Product_code            0\n",
       "Name                    0\n",
       "Retail_price          729\n",
       "Country_of_Origin    1109\n",
       "Size                  688\n",
       "ABV                   692\n",
       "Vendor               1026\n",
       "dtype: int64"
      ]
     },
     "execution_count": 207,
     "metadata": {},
     "output_type": "execute_result"
    }
   ],
   "source": [
    "print(df.isna().sum())\n",
    "print(df.isna().any(axis=1).sum())"
   ]
  },
  {
   "cell_type": "markdown",
   "id": "faf3ace6-5381-4908-abd9-80fd08aa3378",
   "metadata": {},
   "source": [
    "### Step 3b. `(2 pts)` Remove rows from the dataframe `using the .dropNA() method` that have more than 3 missing values. Use as many cells as you need and ensure you save the results back to your dataframe `df`."
   ]
  },
  {
   "cell_type": "code",
   "execution_count": null,
   "id": "a9c6aa70-92e8-49a3-a4f1-8af52d543864",
   "metadata": {},
   "outputs": [],
   "source": [
    "df = df.dropna(thresh=df.shape[1]-3)\n",
    "df = df.dropna()\n",
    "print(df.info())\n",
    "print(df)"
   ]
  }
 ],
 "metadata": {
  "kernelspec": {
   "display_name": "Python 3 (ipykernel)",
   "language": "python",
   "name": "python3"
  },
  "language_info": {
   "codemirror_mode": {
    "name": "ipython",
    "version": 3
   },
   "file_extension": ".py",
   "mimetype": "text/x-python",
   "name": "python",
   "nbconvert_exporter": "python",
   "pygments_lexer": "ipython3",
   "version": "3.9.13"
  }
 },
 "nbformat": 4,
 "nbformat_minor": 5
}
